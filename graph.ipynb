{
 "cells": [
  {
   "cell_type": "code",
   "execution_count": 1,
   "metadata": {},
   "outputs": [
    {
     "ename": "ModuleNotFoundError",
     "evalue": "No module named 'pyvis'",
     "output_type": "error",
     "traceback": [
      "\u001b[31m---------------------------------------------------------------------------\u001b[39m",
      "\u001b[31mModuleNotFoundError\u001b[39m                       Traceback (most recent call last)",
      "\u001b[36mCell\u001b[39m\u001b[36m \u001b[39m\u001b[32mIn[1]\u001b[39m\u001b[32m, line 4\u001b[39m\n\u001b[32m      2\u001b[39m \u001b[38;5;28;01mimport\u001b[39;00m\u001b[38;5;250m \u001b[39m\u001b[34;01mnetworkx\u001b[39;00m\u001b[38;5;250m \u001b[39m\u001b[38;5;28;01mas\u001b[39;00m\u001b[38;5;250m \u001b[39m\u001b[34;01mnx\u001b[39;00m\n\u001b[32m      3\u001b[39m \u001b[38;5;28;01mimport\u001b[39;00m\u001b[38;5;250m \u001b[39m\u001b[34;01mmatplotlib\u001b[39;00m\u001b[34;01m.\u001b[39;00m\u001b[34;01mpyplot\u001b[39;00m\u001b[38;5;250m \u001b[39m\u001b[38;5;28;01mas\u001b[39;00m\u001b[38;5;250m \u001b[39m\u001b[34;01mplt\u001b[39;00m\n\u001b[32m----> \u001b[39m\u001b[32m4\u001b[39m \u001b[38;5;28;01mfrom\u001b[39;00m\u001b[38;5;250m \u001b[39m\u001b[34;01mpyvis\u001b[39;00m\u001b[34;01m.\u001b[39;00m\u001b[34;01mnetwork\u001b[39;00m\u001b[38;5;250m \u001b[39m\u001b[38;5;28;01mimport\u001b[39;00m Network\n\u001b[32m      6\u001b[39m \u001b[38;5;66;03m# Charger les données\u001b[39;00m\n\u001b[32m      7\u001b[39m df = pd.read_csv(\u001b[33m\"\u001b[39m\u001b[33mfull_graph.csv\u001b[39m\u001b[33m\"\u001b[39m, keep_default_na=\u001b[38;5;28;01mFalse\u001b[39;00m)\n",
      "\u001b[31mModuleNotFoundError\u001b[39m: No module named 'pyvis'"
     ]
    }
   ],
   "source": [
    "import pandas as pd\n",
    "import networkx as nx\n",
    "import matplotlib.pyplot as plt\n",
    "from pyvis.network import Network\n",
    "\n",
    "# Charger les données\n",
    "df = pd.read_csv(\"full_graph.csv\", keep_default_na=False)\n",
    "\n",
    "# Séparer les nœuds et les relations\n",
    "nodes = df[df[\"_start\"] == \"\"][[\"_id\", \"_labels\", \"name\"]]\n",
    "edges = df[df[\"_start\"] != \"\"][[\"_start\", \"_end\", \"_type\"]]\n",
    "\n",
    "# Créer un graphe orienté avec états\n",
    "G = nx.DiGraph()\n",
    "\n",
    "# Ajouter les nœuds avec un état booléen 'visited'\n",
    "for _, row in nodes.iterrows():\n",
    "    G.add_node(row[\"_id\"], \n",
    "               label=row[\"_labels\"], \n",
    "               name=row[\"name\"],\n",
    "               visited=False)  # Attribut booléen ajouté\n",
    "\n",
    "# Ajouter les relations\n",
    "for _, row in edges.iterrows():\n",
    "    G.add_edge(row[\"_start\"], row[\"_end\"], label=row[\"_type\"])\n",
    "\n",
    "# Fonction pour générer la couleur selon l'état\n",
    "def get_node_color(node_data):\n",
    "    return \"#ff9999\" if node_data[\"visited\"] else \"#99ccff\"  # Rouge si visité, Bleu sinon\n",
    "\n",
    "# Visualisation avec Matplotlib\n",
    "plt.figure(figsize=(25, 20))\n",
    "pos = nx.spring_layout(G, k=0.6, seed=42)\n",
    "\n",
    "# Dessiner avec les couleurs d'état\n",
    "node_colors = [get_node_color(G.nodes[node]) for node in G.nodes]\n",
    "nx.draw_networkx_nodes(G, pos, node_size=1200, node_color=node_colors, alpha=0.9)\n",
    "nx.draw_networkx_edges(G, pos, arrowstyle=\"->\", arrowsize=25, edge_color=\"gray\")\n",
    "\n",
    "labels = {node: G.nodes[node][\"name\"] for node in G.nodes}\n",
    "nx.draw_networkx_labels(G, pos, labels, font_size=9, font_weight=\"bold\")\n",
    "\n",
    "plt.title(\"Concept Graph with Node States\", fontsize=16)\n",
    "plt.axis(\"off\")\n",
    "plt.tight_layout()\n",
    "plt.show()\n",
    "\n",
    "# Version interactive avec PyVis (génère un fichier HTML)\n",
    "net = Network(height=\"800px\", width=\"100%\", directed=True)\n",
    "net.from_nx(G)\n",
    "\n",
    "# Configuration visuelle\n",
    "net.set_options(\"\"\"\n",
    "{\n",
    "  \"nodes\": {\n",
    "    \"font\": {\"size\": 14},\n",
    "    \"scaling\": {\"min\": 20, \"max\": 40}\n",
    "  },\n",
    "  \"edges\": {\n",
    "    \"arrows\": {\"to\": {\"enabled\": true}},\n",
    "  \"physics\": {\n",
    "    \"barnesHut\": {\n",
    "      \"gravitationalConstant\": -30000,\n",
    "      \"springLength\": 200\n",
    "    }\n",
    "  }\n",
    "}\n",
    "\"\"\")\n",
    "\n",
    "net.show(\"concept_graph.html\")"
   ]
  }
 ],
 "metadata": {
  "kernelspec": {
   "display_name": ".venv",
   "language": "python",
   "name": "python3"
  },
  "language_info": {
   "codemirror_mode": {
    "name": "ipython",
    "version": 3
   },
   "file_extension": ".py",
   "mimetype": "text/x-python",
   "name": "python",
   "nbconvert_exporter": "python",
   "pygments_lexer": "ipython3",
   "version": "3.12.7"
  }
 },
 "nbformat": 4,
 "nbformat_minor": 2
}
