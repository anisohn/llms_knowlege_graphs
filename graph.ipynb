{
 "cells": [
  {
   "cell_type": "code",
   "execution_count": 1,
   "metadata": {},
   "outputs": [
    {
     "name": "stdout",
     "output_type": "stream",
     "text": [
      "   _id   _labels                          name  _start  _end _type  known\n",
      "0  0.0  :Concept        n_gram_language_models     NaN   NaN   NaN      0\n",
      "1  1.0  :Concept          linear_approximation     NaN   NaN   NaN      0\n",
      "2  2.0  :Concept             linear_regression     NaN   NaN   NaN      0\n",
      "3  3.0  :Concept                        vector     NaN   NaN   NaN      0\n",
      "4  4.0  :Concept  independent_random_variables     NaN   NaN   NaN      0\n"
     ]
    }
   ],
   "source": [
    "import pandas as pd\n",
    "\n",
    "# Charger le fichier CSV\n",
    "file_path = \"full_graph.csv\"  # Remplacez par le chemin correct si nécessaire\n",
    "df = pd.read_csv(file_path)\n",
    "\n",
    "# Ajouter une colonne \"known\" initialisée à 0 pour chaque nœud\n",
    "df[\"known\"] = 0\n",
    "\n",
    "# Sauvegarder le fichier modifié (optionnel)\n",
    "df.to_csv(\"full_graph_updated.csv\", index=False)\n",
    "\n",
    "# Afficher un aperçu des données\n",
    "print(df.head())\n"
   ]
  }
 ],
 "metadata": {
  "kernelspec": {
   "display_name": ".venv",
   "language": "python",
   "name": "python3"
  },
  "language_info": {
   "codemirror_mode": {
    "name": "ipython",
    "version": 3
   },
   "file_extension": ".py",
   "mimetype": "text/x-python",
   "name": "python",
   "nbconvert_exporter": "python",
   "pygments_lexer": "ipython3",
   "version": "3.12.7"
  }
 },
 "nbformat": 4,
 "nbformat_minor": 2
}
